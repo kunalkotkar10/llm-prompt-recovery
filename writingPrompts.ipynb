{
 "cells": [
  {
   "cell_type": "code",
   "execution_count": 1,
   "metadata": {},
   "outputs": [
    {
     "data": {
      "text/plain": [
       "True"
      ]
     },
     "execution_count": 1,
     "metadata": {},
     "output_type": "execute_result"
    }
   ],
   "source": [
    "import json\n",
    "import wandb\n",
    "from dotenv import load_dotenv\n",
    "load_dotenv()"
   ]
  },
  {
   "cell_type": "code",
   "execution_count": 2,
   "metadata": {},
   "outputs": [],
   "source": [
    "RAW_FP = \"train.wp_target\"\n",
    "PROCESSED_FP = \"writingPrompts.json\""
   ]
  },
  {
   "cell_type": "code",
   "execution_count": 3,
   "metadata": {},
   "outputs": [],
   "source": [
    "# read file\n",
    "with open(RAW_FP, \"r\", encoding='utf-8') as f:\n",
    "    raw = f.readlines()"
   ]
  },
  {
   "cell_type": "code",
   "execution_count": 4,
   "metadata": {},
   "outputs": [],
   "source": [
    "# filter first 10000 lines which have between 500 and 1000 words\n",
    "filtered = []\n",
    "for line in raw:\n",
    "    if len(line.split()) > 500 and len(line.split()) < 1000:\n",
    "        filtered.append(line)\n",
    "    if len(filtered) == 10000:\n",
    "        break"
   ]
  },
  {
   "cell_type": "code",
   "execution_count": 5,
   "metadata": {},
   "outputs": [],
   "source": [
    "with open(PROCESSED_FP, \"w\") as f:\n",
    "    json.dump([{\"id\": idx, \"text\": text} for idx, text in enumerate(filtered)], f, ensure_ascii=False, indent=4)"
   ]
  },
  {
   "cell_type": "code",
   "execution_count": null,
   "metadata": {},
   "outputs": [],
   "source": [
    "wandb.init()"
   ]
  },
  {
   "cell_type": "code",
   "execution_count": 8,
   "metadata": {},
   "outputs": [
    {
     "data": {
      "text/html": [
       "Tracking run with wandb version 0.16.6"
      ],
      "text/plain": [
       "<IPython.core.display.HTML object>"
      ]
     },
     "metadata": {},
     "output_type": "display_data"
    },
    {
     "data": {
      "text/html": [
       "Run data is saved locally in <code>/Users/rishabh/Library/CloudStorage/OneDrive-JohnsHopkins/Grad Studies/Spring 2024/NLP_SSL/Project/llm-prompt-recovery/writingPrompts/wandb/run-20240413_202358-8d8anwgg</code>"
      ],
      "text/plain": [
       "<IPython.core.display.HTML object>"
      ]
     },
     "metadata": {},
     "output_type": "display_data"
    },
    {
     "data": {
      "text/html": [
       "Syncing run <strong><a href='https://wandb.ai/jhu-llm-prompt-recovery/llm-prompt-recovery/runs/8d8anwgg' target=\"_blank\">dainty-thunder-1</a></strong> to <a href='https://wandb.ai/jhu-llm-prompt-recovery/llm-prompt-recovery' target=\"_blank\">Weights & Biases</a> (<a href='https://wandb.me/run' target=\"_blank\">docs</a>)<br/>"
      ],
      "text/plain": [
       "<IPython.core.display.HTML object>"
      ]
     },
     "metadata": {},
     "output_type": "display_data"
    },
    {
     "data": {
      "text/html": [
       " View project at <a href='https://wandb.ai/jhu-llm-prompt-recovery/llm-prompt-recovery' target=\"_blank\">https://wandb.ai/jhu-llm-prompt-recovery/llm-prompt-recovery</a>"
      ],
      "text/plain": [
       "<IPython.core.display.HTML object>"
      ]
     },
     "metadata": {},
     "output_type": "display_data"
    },
    {
     "data": {
      "text/html": [
       " View run at <a href='https://wandb.ai/jhu-llm-prompt-recovery/llm-prompt-recovery/runs/8d8anwgg' target=\"_blank\">https://wandb.ai/jhu-llm-prompt-recovery/llm-prompt-recovery/runs/8d8anwgg</a>"
      ],
      "text/plain": [
       "<IPython.core.display.HTML object>"
      ]
     },
     "metadata": {},
     "output_type": "display_data"
    },
    {
     "data": {
      "text/html": [
       " View run <strong style=\"color:#cdcd00\">dainty-thunder-1</strong> at: <a href='https://wandb.ai/jhu-llm-prompt-recovery/llm-prompt-recovery/runs/8d8anwgg' target=\"_blank\">https://wandb.ai/jhu-llm-prompt-recovery/llm-prompt-recovery/runs/8d8anwgg</a><br/> View project at: <a href='https://wandb.ai/jhu-llm-prompt-recovery/llm-prompt-recovery' target=\"_blank\">https://wandb.ai/jhu-llm-prompt-recovery/llm-prompt-recovery</a><br/>Synced 5 W&B file(s), 0 media file(s), 1 artifact file(s) and 0 other file(s)"
      ],
      "text/plain": [
       "<IPython.core.display.HTML object>"
      ]
     },
     "metadata": {},
     "output_type": "display_data"
    },
    {
     "data": {
      "text/html": [
       "Find logs at: <code>./wandb/run-20240413_202358-8d8anwgg/logs</code>"
      ],
      "text/plain": [
       "<IPython.core.display.HTML object>"
      ]
     },
     "metadata": {},
     "output_type": "display_data"
    }
   ],
   "source": [
    "import wandb\n",
    "wandb.init()\n",
    "run = wandb.init(entity=\"jhu-llm-prompt-recovery\", project=\"llm-prompt-recovery\", job_type=\"upload-dataset\")\n",
    "artifact = wandb.Artifact(name=\"writing-prompts-dataset\", type=\"dataset\")\n",
    "artifact.add_file(local_path=\"writingPrompts.json\")\n",
    "run.log_artifact(artifact)\n",
    "wandb.finish()"
   ]
  },
  {
   "cell_type": "code",
   "execution_count": null,
   "metadata": {},
   "outputs": [],
   "source": []
  }
 ],
 "metadata": {
  "kernelspec": {
   "display_name": "llm_prompt_recovery",
   "language": "python",
   "name": "python3"
  },
  "language_info": {
   "codemirror_mode": {
    "name": "ipython",
    "version": 3
   },
   "file_extension": ".py",
   "mimetype": "text/x-python",
   "name": "python",
   "nbconvert_exporter": "python",
   "pygments_lexer": "ipython3",
   "version": "3.10.14"
  }
 },
 "nbformat": 4,
 "nbformat_minor": 2
}

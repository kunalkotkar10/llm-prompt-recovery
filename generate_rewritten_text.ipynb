{
 "cells": [
  {
   "cell_type": "code",
   "execution_count": 1,
   "metadata": {},
   "outputs": [
    {
     "name": "stderr",
     "output_type": "stream",
     "text": [
      "/var/folders/2r/0zgfx8017bb7q6gvdtz_ftdw0000gn/T/ipykernel_29831/1123259023.py:10: TqdmWarning: IProgress not found. Please update jupyter and ipywidgets. See https://ipywidgets.readthedocs.io/en/stable/user_install.html\n",
      "  from tqdm.autonotebook import tqdm\n"
     ]
    }
   ],
   "source": [
    "import os\n",
    "import json\n",
    "import torch\n",
    "import wandb\n",
    "import random\n",
    "import pandas as pd\n",
    "\n",
    "from datetime import datetime\n",
    "from dotenv import load_dotenv\n",
    "from itertools import combinations\n",
    "from tqdm.autonotebook import tqdm\n",
    "from transformers import AutoTokenizer, AutoModelForCausalLM\n",
    "\n",
    "load_dotenv()"
   ]
  },
  {
   "cell_type": "code",
   "execution_count": 22,
   "metadata": {},
   "outputs": [],
   "source": [
    "JOB_TYPE = \"Dataset_Generation\"\n",
    "CURR_DATE_TIME = datetime.now().strftime(\"%Y%m%d_%H%M%S\")\n",
    "\n",
    "# randomly sample instructions\n",
    "random.seed(42)\n",
    "\n",
    "NUM_INSTRUCTIONS = 20\n",
    "NUM_ORIGINAL_TEXTS = 100"
   ]
  },
  {
   "cell_type": "code",
   "execution_count": 3,
   "metadata": {},
   "outputs": [
    {
     "name": "stderr",
     "output_type": "stream",
     "text": [
      "Failed to detect the name of this notebook, you can set it manually with the WANDB_NOTEBOOK_NAME environment variable to enable code saving.\n",
      "\u001b[34m\u001b[1mwandb\u001b[0m: Currently logged in as: \u001b[33mnrishabh\u001b[0m (\u001b[33mjhu-llm-prompt-recovery\u001b[0m). Use \u001b[1m`wandb login --relogin`\u001b[0m to force relogin\n"
     ]
    },
    {
     "data": {
      "text/html": [
       "Tracking run with wandb version 0.16.6"
      ],
      "text/plain": [
       "<IPython.core.display.HTML object>"
      ]
     },
     "metadata": {},
     "output_type": "display_data"
    },
    {
     "data": {
      "text/html": [
       "Run data is saved locally in <code>/Users/rishabh/Library/CloudStorage/OneDrive-JohnsHopkins/Grad Studies/Spring 2024/NLP_SSL/Project/llm-prompt-recovery/wandb/run-20240419_093448-i2qjgjcv</code>"
      ],
      "text/plain": [
       "<IPython.core.display.HTML object>"
      ]
     },
     "metadata": {},
     "output_type": "display_data"
    },
    {
     "data": {
      "text/html": [
       "Syncing run <strong><a href='https://wandb.ai/jhu-llm-prompt-recovery/llm-prompt-recovery/runs/i2qjgjcv' target=\"_blank\">Dataset_Generation_20240419_093447</a></strong> to <a href='https://wandb.ai/jhu-llm-prompt-recovery/llm-prompt-recovery' target=\"_blank\">Weights & Biases</a> (<a href='https://wandb.me/run' target=\"_blank\">docs</a>)<br/>"
      ],
      "text/plain": [
       "<IPython.core.display.HTML object>"
      ]
     },
     "metadata": {},
     "output_type": "display_data"
    },
    {
     "data": {
      "text/html": [
       " View project at <a href='https://wandb.ai/jhu-llm-prompt-recovery/llm-prompt-recovery' target=\"_blank\">https://wandb.ai/jhu-llm-prompt-recovery/llm-prompt-recovery</a>"
      ],
      "text/plain": [
       "<IPython.core.display.HTML object>"
      ]
     },
     "metadata": {},
     "output_type": "display_data"
    },
    {
     "data": {
      "text/html": [
       " View run at <a href='https://wandb.ai/jhu-llm-prompt-recovery/llm-prompt-recovery/runs/i2qjgjcv' target=\"_blank\">https://wandb.ai/jhu-llm-prompt-recovery/llm-prompt-recovery/runs/i2qjgjcv</a>"
      ],
      "text/plain": [
       "<IPython.core.display.HTML object>"
      ]
     },
     "metadata": {},
     "output_type": "display_data"
    }
   ],
   "source": [
    "run = wandb.init(entity=\"jhu-llm-prompt-recovery\", project=\"llm-prompt-recovery\", job_type=\"upload-dataset\", name=f\"{JOB_TYPE}_{CURR_DATE_TIME}\")"
   ]
  },
  {
   "cell_type": "code",
   "execution_count": 13,
   "metadata": {},
   "outputs": [
    {
     "name": "stderr",
     "output_type": "stream",
     "text": [
      "\u001b[34m\u001b[1mwandb\u001b[0m:   1 of 1 files downloaded.  \n"
     ]
    }
   ],
   "source": [
    "artifact = run.use_artifact(\"instruction-prompts-dataset:latest\")\n",
    "artifact_dir = artifact.download()\n",
    "with open(os.path.join(artifact_dir, os.listdir(artifact_dir)[0]), \"r\") as f:\n",
    "    prompts = json.load(f)"
   ]
  },
  {
   "cell_type": "code",
   "execution_count": 10,
   "metadata": {},
   "outputs": [
    {
     "name": "stderr",
     "output_type": "stream",
     "text": [
      "\u001b[34m\u001b[1mwandb\u001b[0m:   1 of 1 files downloaded.  \n"
     ]
    }
   ],
   "source": [
    "DATASET_NAME = \"email-dataset\"\n",
    "artifact = run.use_artifact(f\"{DATASET_NAME}:latest\")\n",
    "artifact_dir = artifact.download()\n",
    "with open(os.path.join(artifact_dir, os.listdir(artifact_dir)[0]), \"r\") as f:\n",
    "    og_text = json.load(f)"
   ]
  },
  {
   "cell_type": "code",
   "execution_count": 14,
   "metadata": {},
   "outputs": [],
   "source": [
    "rewritten_text_dataset = list()"
   ]
  },
  {
   "cell_type": "code",
   "execution_count": 23,
   "metadata": {},
   "outputs": [],
   "source": [
    "# sample instructions\n",
    "sampled_instructions = random.sample(prompts, NUM_INSTRUCTIONS)\n",
    "\n",
    "# sample original texts\n",
    "sampled_original_texts = random.sample(og_text, NUM_ORIGINAL_TEXTS)\n",
    "\n",
    "# generate all possible combinations of instructions and original texts\n",
    "# each combination will have one instruction and one original text\n",
    "instruction_original_text_combinations = list(combinations([(instruction, original_text) for instruction in sampled_instructions for original_text in sampled_original_texts], 1))"
   ]
  },
  {
   "cell_type": "code",
   "execution_count": 26,
   "metadata": {},
   "outputs": [
    {
     "name": "stderr",
     "output_type": "stream",
     "text": [
      "Downloading shards: 100%|██████████| 4/4 [06:43<00:00, 100.79s/it]\n",
      "Loading checkpoint shards: 100%|██████████| 4/4 [00:42<00:00, 10.51s/it]\n"
     ]
    }
   ],
   "source": [
    "tokenizer = AutoTokenizer.from_pretrained(\"google/gemma-1.1-7b-it\")\n",
    "model = AutoModelForCausalLM.from_pretrained(\n",
    "    \"google/gemma-1.1-7b-it\", torch_dtype=torch.bfloat16\n",
    ")"
   ]
  },
  {
   "cell_type": "code",
   "execution_count": 31,
   "metadata": {},
   "outputs": [],
   "source": [
    "# change instruction_original_text_combinations from a 2d tuple to 1d tuple\n",
    "instruction_original_text_combinations = [combination[0] for combination in instruction_original_text_combinations]"
   ]
  },
  {
   "cell_type": "code",
   "execution_count": 36,
   "metadata": {},
   "outputs": [
    {
     "name": "stderr",
     "output_type": "stream",
     "text": [
      "  0%|          | 0/2000 [00:00<?, ?it/s]"
     ]
    }
   ],
   "source": [
    "for instruction, original_text in tqdm(instruction_original_text_combinations):\n",
    "\n",
    "    instruction_id = instruction['id']\n",
    "    instruction_text = instruction['prompt']\n",
    "\n",
    "    original_text_id = original_text['id']\n",
    "    original_text_text = original_text['text']\n",
    "\n",
    "    message = f\"{instruction_text} {original_text_text}\"\n",
    "\n",
    "    input_ids = tokenizer(message, return_tensors=\"pt\")\n",
    "\n",
    "    outputs = model.generate(**input_ids, max_new_tokens=1000)\n",
    "\n",
    "    output = tokenizer.decode(outputs[0], skip_special_tokens=True)\n",
    "\n",
    "    rewritten_text_dataset.append({\n",
    "        \"instruction_id\": instruction_id,\n",
    "        \"instruction_text\": instruction_text,\n",
    "        \"original_text_id\": original_text_id,\n",
    "        \"original_text_text\": original_text_text,\n",
    "        \"rewritten_text\": output\n",
    "    })\n"
   ]
  },
  {
   "cell_type": "code",
   "execution_count": 33,
   "metadata": {},
   "outputs": [
    {
     "name": "stderr",
     "output_type": "stream",
     "text": [
      "\n",
      "No chat template is defined for this tokenizer - using a default chat template that implements the ChatML format (without BOS/EOS tokens!). If the default is not appropriate for your model, please set `tokenizer.chat_template` to an appropriate template. See https://huggingface.co/docs/transformers/main/chat_templating for more information.\n",
      "\n"
     ]
    },
    {
     "data": {
      "text/plain": [
       "\"{% for message in messages %}{{'<|im_start|>' + message['role'] + '\\n' + message['content'] + '<|im_end|>' + '\\n'}}{% endfor %}{% if add_generation_prompt %}{{ '<|im_start|>assistant\\n' }}{% endif %}\""
      ]
     },
     "execution_count": 33,
     "metadata": {},
     "output_type": "execute_result"
    }
   ],
   "source": [
    "tokenizer.default_chat_template"
   ]
  },
  {
   "cell_type": "code",
   "execution_count": null,
   "metadata": {},
   "outputs": [],
   "source": [
    "# write to json\n",
    "with open(f\"{DATASET_NAME}_{CURR_DATE_TIME}.json\", \"w\") as f:\n",
    "    json.dump(rewritten_text_dataset, f)\n",
    "\n",
    "\n",
    "# upload to wandb\n",
    "artifact = wandb.Artifact(f\"{DATASET_NAME}_{CURR_DATE_TIME}\", type=\"rewritten-texts-dataset\")\n",
    "artifact.add_file(f\"{DATASET_NAME}_{CURR_DATE_TIME}.json\")\n",
    "run.log_artifact(artifact)"
   ]
  },
  {
   "cell_type": "code",
   "execution_count": null,
   "metadata": {},
   "outputs": [],
   "source": [
    "run.finish()\n",
    "wandb.finish()"
   ]
  }
 ],
 "metadata": {
  "kernelspec": {
   "display_name": "llm_prompt_recovery",
   "language": "python",
   "name": "python3"
  },
  "language_info": {
   "codemirror_mode": {
    "name": "ipython",
    "version": 3
   },
   "file_extension": ".py",
   "mimetype": "text/x-python",
   "name": "python",
   "nbconvert_exporter": "python",
   "pygments_lexer": "ipython3",
   "version": "3.10.14"
  }
 },
 "nbformat": 4,
 "nbformat_minor": 2
}

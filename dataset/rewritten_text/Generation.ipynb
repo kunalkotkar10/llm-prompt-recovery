{
  "cells": [
    {
      "cell_type": "code",
      "execution_count": 1,
      "metadata": {
        "id": "72JVAQDrMcOA"
      },
      "outputs": [],
      "source": [
        "import os\n",
        "import json\n",
        "import torch\n",
        "import wandb\n",
        "import random\n",
        "import logging\n",
        "import argparse\n",
        "import transformers\n",
        "\n",
        "from datetime import datetime\n",
        "from dotenv import load_dotenv\n",
        "from itertools import combinations\n",
        "from tqdm.autonotebook import tqdm\n",
        "from transformers import AutoTokenizer, AutoModelForCausalLM"
      ]
    },
    {
      "cell_type": "code",
      "execution_count": 2,
      "metadata": {
        "colab": {
          "base_uri": "https://localhost:8080/"
        },
        "id": "fiNdBDZ1RVlz",
        "outputId": "3e89263f-4f0f-418b-89cf-72e730d227af"
      },
      "outputs": [
        {
          "data": {
            "text/plain": [
              "True"
            ]
          },
          "execution_count": 2,
          "metadata": {},
          "output_type": "execute_result"
        }
      ],
      "source": [
        "load_dotenv(\"/home/cs601-rnanawa1/llm-prompt-recovery/.env\")"
      ]
    },
    {
      "cell_type": "code",
      "execution_count": 3,
      "metadata": {
        "id": "QjAEklFcVKpY"
      },
      "outputs": [],
      "source": [
        "class Struct:\n",
        "    def __init__(self, **entries):\n",
        "        self.__dict__.update(entries)"
      ]
    },
    {
      "cell_type": "code",
      "execution_count": 4,
      "metadata": {
        "id": "R2Yx7aFbN0q3"
      },
      "outputs": [],
      "source": [
        "args_dict = {\n",
        "        \"original_datasets\": [\n",
        "          \"shakespeare-dataset\",\n",
        "          \"email-dataset\",\n",
        "          \"news-articles-dataset\",\n",
        "          \"recipe-dataset\",\n",
        "          \"resume-dataset\",\n",
        "          \"song-lyrics-dataset\",],\n",
        "        \"prompt_dataset\": \"instruction-prompts-dataset\",\n",
        "        \"num_prompts\": 100,\n",
        "        \"num_originals\": 100,\n",
        "        \"model\": \"meta-llama/Meta-Llama-3-8B-Instruct\",\n",
        "        \"quantization\": \"4bit\",\n",
        "        \"batch_size\": 32,\n",
        "        \"train_test_split\": 0.8,\n",
        "        \"output_dataset_name\": \"medium\",\n",
        "    }"
      ]
    },
    {
      "cell_type": "code",
      "execution_count": 5,
      "metadata": {
        "id": "RAkFDe7KVVix"
      },
      "outputs": [],
      "source": [
        "args = Struct(**args_dict)"
      ]
    },
    {
      "cell_type": "code",
      "execution_count": 6,
      "metadata": {
        "colab": {
          "base_uri": "https://localhost:8080/",
          "height": 145
        },
        "id": "KPpEpOynRj09",
        "outputId": "2278fc67-2ce5-4a93-c500-5928355bb891"
      },
      "outputs": [
        {
          "name": "stderr",
          "output_type": "stream",
          "text": [
            "\u001b[34m\u001b[1mwandb\u001b[0m: Currently logged in as: \u001b[33mnrishabh\u001b[0m (\u001b[33mjhu-llm-prompt-recovery\u001b[0m). Use \u001b[1m`wandb login --relogin`\u001b[0m to force relogin\n"
          ]
        },
        {
          "data": {
            "text/html": [
              "Tracking run with wandb version 0.16.6"
            ],
            "text/plain": [
              "<IPython.core.display.HTML object>"
            ]
          },
          "metadata": {},
          "output_type": "display_data"
        },
        {
          "data": {
            "text/html": [
              "Run data is saved locally in <code>/home/cs601-rnanawa1/llm-prompt-recovery/wandb/run-20240423_214548-osn6bbtv</code>"
            ],
            "text/plain": [
              "<IPython.core.display.HTML object>"
            ]
          },
          "metadata": {},
          "output_type": "display_data"
        },
        {
          "data": {
            "text/html": [
              "Syncing run <strong><a href='https://wandb.ai/jhu-llm-prompt-recovery/llm-prompt-recovery/runs/osn6bbtv' target=\"_blank\">generate-rewritten-texts_20240423_214547</a></strong> to <a href='https://wandb.ai/jhu-llm-prompt-recovery/llm-prompt-recovery' target=\"_blank\">Weights & Biases</a> (<a href='https://wandb.me/run' target=\"_blank\">docs</a>)<br/>"
            ],
            "text/plain": [
              "<IPython.core.display.HTML object>"
            ]
          },
          "metadata": {},
          "output_type": "display_data"
        },
        {
          "data": {
            "text/html": [
              " View project at <a href='https://wandb.ai/jhu-llm-prompt-recovery/llm-prompt-recovery' target=\"_blank\">https://wandb.ai/jhu-llm-prompt-recovery/llm-prompt-recovery</a>"
            ],
            "text/plain": [
              "<IPython.core.display.HTML object>"
            ]
          },
          "metadata": {},
          "output_type": "display_data"
        },
        {
          "data": {
            "text/html": [
              " View run at <a href='https://wandb.ai/jhu-llm-prompt-recovery/llm-prompt-recovery/runs/osn6bbtv' target=\"_blank\">https://wandb.ai/jhu-llm-prompt-recovery/llm-prompt-recovery/runs/osn6bbtv</a>"
            ],
            "text/plain": [
              "<IPython.core.display.HTML object>"
            ]
          },
          "metadata": {},
          "output_type": "display_data"
        },
        {
          "data": {
            "text/html": [
              "<button onClick=\"this.nextSibling.style.display='block';this.style.display='none';\">Display W&B run</button><iframe src='https://wandb.ai/jhu-llm-prompt-recovery/llm-prompt-recovery/runs/osn6bbtv?jupyter=true' style='border:none;width:100%;height:420px;display:none;'></iframe>"
            ],
            "text/plain": [
              "<wandb.sdk.wandb_run.Run at 0x15546d2c12a0>"
            ]
          },
          "execution_count": 6,
          "metadata": {},
          "output_type": "execute_result"
        }
      ],
      "source": [
        "JOB_TYPE = \"generate-rewritten-texts\"\n",
        "CURR_DATE_TIME = datetime.now().strftime(\"%Y%m%d_%H%M%S\")\n",
        "\n",
        "# DONE: Initialize wandb run\n",
        "wandb.init(\n",
        "    entity=\"jhu-llm-prompt-recovery\",\n",
        "    project=\"llm-prompt-recovery\",\n",
        "    job_type=JOB_TYPE,\n",
        "    name=f\"{JOB_TYPE}_{CURR_DATE_TIME}\",\n",
        "    config=args,\n",
        ")"
      ]
    },
    {
      "cell_type": "code",
      "execution_count": 7,
      "metadata": {
        "id": "1Kj33i4fR0hG"
      },
      "outputs": [],
      "source": [
        "class CombinedDataset():\n",
        "\n",
        "  def __init__(self, args):\n",
        "    self.args = args\n",
        "\n",
        "  def fetch_original_datasets(self):\n",
        "\n",
        "    self.original_datasets = {}\n",
        "\n",
        "    for dataset in self.args.original_datasets:\n",
        "\n",
        "      artifact = wandb.use_artifact(f\"{dataset}:latest\")\n",
        "      artifact_dir = artifact.download()\n",
        "\n",
        "      with open(os.path.join(artifact_dir, os.listdir(artifact_dir)[0]), \"r\") as f:\n",
        "          self.original_datasets[dataset] = json.load(f)\n",
        "\n",
        "\n",
        "      if len(self.original_datasets[dataset]) < self.args.num_originals:\n",
        "          logging.warning(\n",
        "              f\"Dataset {dataset} has fewer than {self.args.num_originals} items.\"\n",
        "          )\n",
        "\n",
        "      for item in self.original_datasets[dataset]:\n",
        "          assert set(item.keys()) == {\n",
        "              \"id\",\n",
        "              \"text\",\n",
        "          }, f\"Dataset {dataset} is not in the correct format. Each item should have only 'id' and 'text' keys.\"\n",
        "\n",
        "  def fetch_prompts(self):\n",
        "\n",
        "    artifact = wandb.use_artifact(f\"{self.args.prompt_dataset}:latest\")\n",
        "    artifact_dir = artifact.download()\n",
        "\n",
        "    with open(os.path.join(artifact_dir, os.listdir(artifact_dir)[0]), \"r\") as f:\n",
        "        self.prompt_dataset = json.load(f)\n",
        "\n",
        "    assert (\n",
        "        len(self.prompt_dataset) >= self.args.num_prompts\n",
        "    ), f\"Prompt dataset has fewer than {self.args.num_prompts} items.\"\n",
        "\n",
        "    for item in self.prompt_dataset:\n",
        "        assert set(item.keys()) == {\n",
        "            \"id\",\n",
        "            \"prompt\",\n",
        "        }, f\"Prompt dataset {self.args.prompt_dataset} is not in the correct format. Each item should have only 'id' and 'prompt' keys.\"\n",
        "\n",
        "  def process_dataset(self):\n",
        "\n",
        "    # DONE: Randomly sample instructions.\n",
        "    self.sampled_instructions = random.sample(self.prompt_dataset, args.num_prompts)\n",
        "\n",
        "    # DONE: Randomly sample original texts.\n",
        "    self.sampled_original_texts = {\n",
        "        dataset: random.sample(self.original_datasets[dataset], args.num_originals)\n",
        "        for dataset in self.original_datasets\n",
        "    }\n",
        "\n",
        "    # DONE: Generate all possible combinations of instructions and original texts for each of the original datasets.\n",
        "    self.instruction_original_text_combinations = {\n",
        "        dataset: list(\n",
        "            combinations(\n",
        "                [\n",
        "                    (instruction, original_text)\n",
        "                    for instruction in self.sampled_instructions\n",
        "                    for original_text in self.sampled_original_texts[dataset]\n",
        "                ],\n",
        "                1,\n",
        "            )\n",
        "        )\n",
        "        for dataset in self.original_datasets\n",
        "    }\n",
        "\n",
        "    # for each item in each dataset, add a field called \"original_dataset\"\n",
        "    for dataset in self.instruction_original_text_combinations:\n",
        "        for idx, item in enumerate(self.instruction_original_text_combinations[dataset]):\n",
        "\n",
        "            self.instruction_original_text_combinations[dataset][idx] = {\n",
        "                \"instruction\": item[0][0],\n",
        "                \"original_text\": item[0][1],\n",
        "            }\n",
        "            self.instruction_original_text_combinations[dataset][idx][\"original_text\"][\n",
        "                \"dataset\"\n",
        "            ] = dataset\n",
        "\n",
        "\n",
        "  def train_test_split(self):\n",
        "    self.train_datasets = {}\n",
        "    self.test_datasets = {}\n",
        "    for dataset in self.instruction_original_text_combinations:\n",
        "        # Shuffle the combinations\n",
        "        random.shuffle(self.instruction_original_text_combinations[dataset])\n",
        "        # Split into train and test\n",
        "        split_index = int(\n",
        "            args.train_test_split * len(self.instruction_original_text_combinations[dataset])\n",
        "        )\n",
        "        self.train_datasets[dataset] = self.instruction_original_text_combinations[dataset][\n",
        "            :split_index\n",
        "        ]\n",
        "        self.test_datasets[dataset] = self.instruction_original_text_combinations[dataset][\n",
        "            split_index:\n",
        "        ]\n",
        "\n",
        "  def flatten(self):\n",
        "    self.train_dataset = []\n",
        "    self.test_dataset = []\n",
        "    for dataset in self.train_datasets:\n",
        "        self.train_dataset.extend(self.train_datasets[dataset])\n",
        "        self.test_dataset.extend(self.test_datasets[dataset])"
      ]
    },
    {
      "cell_type": "code",
      "execution_count": 8,
      "metadata": {
        "colab": {
          "base_uri": "https://localhost:8080/"
        },
        "id": "WYvcZKiwUOhf",
        "outputId": "bd80b7df-24cd-4a80-92b4-5160c93d1826"
      },
      "outputs": [
        {
          "name": "stderr",
          "output_type": "stream",
          "text": [
            "\u001b[34m\u001b[1mwandb\u001b[0m:   1 of 1 files downloaded.  \n",
            "\u001b[34m\u001b[1mwandb\u001b[0m:   1 of 1 files downloaded.  \n",
            "\u001b[34m\u001b[1mwandb\u001b[0m:   1 of 1 files downloaded.  \n",
            "\u001b[34m\u001b[1mwandb\u001b[0m:   1 of 1 files downloaded.  \n",
            "\u001b[34m\u001b[1mwandb\u001b[0m:   1 of 1 files downloaded.  \n",
            "\u001b[34m\u001b[1mwandb\u001b[0m:   1 of 1 files downloaded.  \n",
            "\u001b[34m\u001b[1mwandb\u001b[0m:   1 of 1 files downloaded.  \n"
          ]
        }
      ],
      "source": [
        "dataset = CombinedDataset(args)\n",
        "dataset.fetch_original_datasets()\n",
        "dataset.fetch_prompts()\n",
        "dataset.process_dataset()\n",
        "dataset.train_test_split()\n",
        "dataset.flatten()"
      ]
    },
    {
      "cell_type": "code",
      "execution_count": 9,
      "metadata": {
        "id": "OJs2eLKRUkAn"
      },
      "outputs": [],
      "source": [
        "class Dataloader():\n",
        "\n",
        "  def __init__(self, dataset, tokenizer):\n",
        "\n",
        "    self.tokenizer = tokenizer\n",
        "    self.detailed_dataset = dataset\n",
        "    self.dataset = list()\n",
        "\n",
        "  def process(self):\n",
        "\n",
        "    for idx, item in tqdm(enumerate(self.detailed_dataset), desc=\"Tokenizing data items\", unit='data item', total=len(self.detailed_dataset)):\n",
        "      messages = [\n",
        "          {\n",
        "              \"role\": \"system\",\n",
        "              \"content\": item['instruction']['prompt']\n",
        "          },\n",
        "          {\n",
        "              \"role\": \"user\",\n",
        "              \"content\": item['original_text']['text']\n",
        "          }\n",
        "      ]\n",
        "\n",
        "      input_ids = self.tokenizer.apply_chat_template(\n",
        "          messages,\n",
        "          add_generation_prompt=True,\n",
        "          return_tensors=\"pt\"\n",
        "      )\n",
        "\n",
        "      self.dataset.append(input_ids)\n",
        "\n",
        "  def __len__(self):\n",
        "    return len(self.detailed_dataset)\n",
        "\n",
        "  def __getitem__(self, idx):\n",
        "    return self.dataset[idx]"
      ]
    },
    {
      "cell_type": "code",
      "execution_count": 10,
      "metadata": {
        "id": "Q0bfpIJpXO2c"
      },
      "outputs": [],
      "source": [
        "if args.quantization == \"8bit\":\n",
        "    model_kwargs = {\n",
        "        \"torch_dtype\": torch.float16,\n",
        "        \"quantization_config\": {\"load_in_8bit\": True},\n",
        "        \"low_cpu_mem_usage\": True,\n",
        "        \"device_map\": \"auto\",\n",
        "    }\n",
        "elif args.quantization == \"4bit\":\n",
        "    model_kwargs = {\n",
        "        \"torch_dtype\": torch.float32,\n",
        "        \"quantization_config\": {\"load_in_4bit\": True},\n",
        "        \"low_cpu_mem_usage\": True,\n",
        "        \"device_map\": \"auto\"\n",
        "    }\n",
        "    \n",
        "else:\n",
        "    model_kwargs = {\"torch_dtype\": torch.float16,\n",
        "    \"device_map\": \"auto\"}"
      ]
    },
    {
      "cell_type": "code",
      "execution_count": 11,
      "metadata": {
        "colab": {
          "base_uri": "https://localhost:8080/"
        },
        "id": "CDkdN-3JWlnR",
        "outputId": "23dce152-9a81-4bb3-d1e7-93811924a194"
      },
      "outputs": [
        {
          "name": "stderr",
          "output_type": "stream",
          "text": [
            "Special tokens have been added in the vocabulary, make sure the associated word embeddings are fine-tuned or trained.\n"
          ]
        },
        {
          "data": {
            "application/vnd.jupyter.widget-view+json": {
              "model_id": "433a51227e954c0bbfe4d7d4b1e73fed",
              "version_major": 2,
              "version_minor": 0
            },
            "text/plain": [
              "Downloading shards:   0%|          | 0/4 [00:00<?, ?it/s]"
            ]
          },
          "metadata": {},
          "output_type": "display_data"
        },
        {
          "data": {
            "application/vnd.jupyter.widget-view+json": {
              "model_id": "c31f28e06760447e853bfb482a8f4eee",
              "version_major": 2,
              "version_minor": 0
            },
            "text/plain": [
              "model-00001-of-00004.safetensors:   0%|          | 0.00/4.98G [00:00<?, ?B/s]"
            ]
          },
          "metadata": {},
          "output_type": "display_data"
        },
        {
          "data": {
            "application/vnd.jupyter.widget-view+json": {
              "model_id": "9890d317fb374b3aabb5e558d8bf509f",
              "version_major": 2,
              "version_minor": 0
            },
            "text/plain": [
              "model-00002-of-00004.safetensors:   0%|          | 0.00/5.00G [00:00<?, ?B/s]"
            ]
          },
          "metadata": {},
          "output_type": "display_data"
        },
        {
          "data": {
            "application/vnd.jupyter.widget-view+json": {
              "model_id": "90300c0ffe684e97844c98e5017f7cd9",
              "version_major": 2,
              "version_minor": 0
            },
            "text/plain": [
              "model-00003-of-00004.safetensors:   0%|          | 0.00/4.92G [00:00<?, ?B/s]"
            ]
          },
          "metadata": {},
          "output_type": "display_data"
        },
        {
          "data": {
            "application/vnd.jupyter.widget-view+json": {
              "model_id": "267a9881d6eb44bc85d63bf4dd07411b",
              "version_major": 2,
              "version_minor": 0
            },
            "text/plain": [
              "model-00004-of-00004.safetensors:   0%|          | 0.00/1.17G [00:00<?, ?B/s]"
            ]
          },
          "metadata": {},
          "output_type": "display_data"
        },
        {
          "data": {
            "application/vnd.jupyter.widget-view+json": {
              "model_id": "92e840bb969c4659ad9a5323216ea292",
              "version_major": 2,
              "version_minor": 0
            },
            "text/plain": [
              "Loading checkpoint shards:   0%|          | 0/4 [00:00<?, ?it/s]"
            ]
          },
          "metadata": {},
          "output_type": "display_data"
        },
        {
          "data": {
            "application/vnd.jupyter.widget-view+json": {
              "model_id": "6b4ca924f47145f2a4f5c2d90ca4b0a0",
              "version_major": 2,
              "version_minor": 0
            },
            "text/plain": [
              "generation_config.json:   0%|          | 0.00/136 [00:00<?, ?B/s]"
            ]
          },
          "metadata": {},
          "output_type": "display_data"
        }
      ],
      "source": [
        "tokenizer = AutoTokenizer.from_pretrained(args.model)\n",
        "model = AutoModelForCausalLM.from_pretrained(\n",
        "    args.model,\n",
        "    **model_kwargs,\n",
        ")"
      ]
    },
    {
      "cell_type": "code",
      "execution_count": 12,
      "metadata": {
        "id": "R6lkhhqvjlp_"
      },
      "outputs": [],
      "source": [
        "dataset.train_dataset = dataset.train_dataset[:10]"
      ]
    },
    {
      "cell_type": "code",
      "execution_count": 13,
      "metadata": {
        "colab": {
          "base_uri": "https://localhost:8080/",
          "height": 49,
          "referenced_widgets": [
            "bd19389570f9413e9bc4d3d484281f19",
            "05f7f7a4fa0c4762a0b9bdf32eae80c4",
            "2233a726bf1c416584d54cd81db35f83",
            "91edc9b79b44491d94c9568f9fb362df",
            "48f0422bbacf457397d776d609ce81f9",
            "02c54b1c5e9d4f35b39a5cf1c4820bc4",
            "e1478ef3880d434ea1dc2c7e4fa85f45",
            "4c66f18746eb4a5da576cfeba989ae8c",
            "dcac4235f3da4d9ab65ebaa9de36a8a5",
            "aad91b7a4e0c494197b72f5cff55b9c5",
            "f9b2a5f885e64e62890aa2b2b945de62"
          ]
        },
        "id": "0q3RpVi8XW7o",
        "outputId": "94d1d517-babf-406a-ac41-608e33429c28"
      },
      "outputs": [
        {
          "data": {
            "application/vnd.jupyter.widget-view+json": {
              "model_id": "c6e14facc98f4f1e85d73060f78d9f74",
              "version_major": 2,
              "version_minor": 0
            },
            "text/plain": [
              "Tokenizing data items:   0%|          | 0/10 [00:00<?, ?data item/s]"
            ]
          },
          "metadata": {},
          "output_type": "display_data"
        }
      ],
      "source": [
        "logging.info(\"Processing train dataset...\")\n",
        "train_dataloader = Dataloader(dataset.train_dataset, tokenizer=tokenizer)\n",
        "train_dataloader.process()"
      ]
    },
    {
      "cell_type": "code",
      "execution_count": 14,
      "metadata": {
        "colab": {
          "base_uri": "https://localhost:8080/",
          "height": 497,
          "referenced_widgets": [
            "a1aecf96b761474c837aa103ebdbff27",
            "1b8930d57c8c46f39c0d74c965eda90f",
            "d6928d70ab80421e820a773bc6906e50",
            "1f74ce2635ae475ca8daba5ff41a44e0",
            "876697025f614cbfb62b17fe66938faa",
            "9a20a8043e264195a5b43a8cf63d7678",
            "b234fae8f98d41488688827ab5655945",
            "12d03655bb5d4dfd863fd7ab83b2c338",
            "f9a61dd96b7c4f9790888bb817109aa4",
            "e2c389768a5041858374f7b4a4932439",
            "e87288c4e4b64cc39c826296bac449b5"
          ]
        },
        "id": "d2vcZ9gIjSme",
        "outputId": "304fcea1-1ef4-4c32-91b8-07f9cb632c8c"
      },
      "outputs": [],
      "source": [
        "terminators = [\n",
        "    tokenizer.eos_token_id,\n",
        "    tokenizer.convert_tokens_to_ids(\"<|eot_id|>\")\n",
        "]"
      ]
    },
    {
      "cell_type": "code",
      "execution_count": 17,
      "metadata": {
        "id": "O9W-Hkw3jrgy"
      },
      "outputs": [
        {
          "data": {
            "application/vnd.jupyter.widget-view+json": {
              "model_id": "f740b40351e64911a1a0fcddec2516d1",
              "version_major": 2,
              "version_minor": 0
            },
            "text/plain": [
              "Generating rewritten text:   0%|          | 0/10 [00:00<?, ?data item/s]"
            ]
          },
          "metadata": {},
          "output_type": "display_data"
        }
      ],
      "source": [
        "for idx, inputs in tqdm(enumerate(train_dataloader), total=len(train_dataloader), desc=\"Generating rewritten text\", unit=\"data item\"):\n",
        "  outputs = model.generate(\n",
        "      inputs.to(model.device),\n",
        "      max_new_tokens=256,\n",
        "      eos_token_id=terminators,\n",
        "      do_sample=True,\n",
        "      temperature=0.6,\n",
        "      top_p=0.9,\n",
        "      pad_token_id=tokenizer.eos_token_id\n",
        "  )\n",
        "  response = outputs[0][inputs.shape[-1]:]\n",
        "  dataset.train_dataset[idx][\"rewritten_text\"] = tokenizer.decode(response, skip_special_tokens=True)"
      ]
    },
    {
      "cell_type": "code",
      "execution_count": null,
      "metadata": {},
      "outputs": [],
      "source": [
        "# DONE: Save the datasets\n",
        "if args.output_dataset_name is None:\n",
        "    output_dataset_name = f\"{JOB_TYPE}_{CURR_DATE_TIME}\"\n",
        "else:\n",
        "    output_dataset_name = args.output_dataset_name\n",
        "\n",
        "if not os.path.exists(\"artifacts/\" + output_dataset_name):\n",
        "    os.makedirs(\"artifacts/\" + output_dataset_name)\n",
        "with open(f\"artifacts/{output_dataset_name}/train.json\", \"w\") as f:\n",
        "    json.dump(dataset.train_dataset, f)\n",
        "with open(f\"artifacts/{output_dataset_name}/test.json\", \"w\") as f:\n",
        "    json.dump(dataset.test_dataset, f)\n",
        "\n",
        "# DONE: Upload to wandb\n",
        "artifact = wandb.Artifact(output_dataset_name, type=\"rewritten-texts-dataset\")\n",
        "artifact.add_file(f\"artifacts/{output_dataset_name}/train.json\")\n",
        "artifact.add_file(f\"artifacts/{output_dataset_name}/test.json\")\n",
        "wandb.log_artifact(artifact)\n",
        "\n",
        "wandb.finish()"
      ]
    }
  ],
  "metadata": {
    "accelerator": "GPU",
    "colab": {
      "gpuType": "T4",
      "provenance": []
    },
    "kernelspec": {
      "display_name": "Python 3 (ipykernel)",
      "language": "python",
      "name": "python3"
    },
    "language_info": {
      "codemirror_mode": {
        "name": "ipython",
        "version": 3
      },
      "file_extension": ".py",
      "mimetype": "text/x-python",
      "name": "python",
      "nbconvert_exporter": "python",
      "pygments_lexer": "ipython3",
      "version": "3.10.14"
    },
    "widgets": {
      "application/vnd.jupyter.widget-state+json": {
        "02c54b1c5e9d4f35b39a5cf1c4820bc4": {
          "model_module": "@jupyter-widgets/base",
          "model_module_version": "1.2.0",
          "model_name": "LayoutModel",
          "state": {
            "_model_module": "@jupyter-widgets/base",
            "_model_module_version": "1.2.0",
            "_model_name": "LayoutModel",
            "_view_count": null,
            "_view_module": "@jupyter-widgets/base",
            "_view_module_version": "1.2.0",
            "_view_name": "LayoutView",
            "align_content": null,
            "align_items": null,
            "align_self": null,
            "border": null,
            "bottom": null,
            "display": null,
            "flex": null,
            "flex_flow": null,
            "grid_area": null,
            "grid_auto_columns": null,
            "grid_auto_flow": null,
            "grid_auto_rows": null,
            "grid_column": null,
            "grid_gap": null,
            "grid_row": null,
            "grid_template_areas": null,
            "grid_template_columns": null,
            "grid_template_rows": null,
            "height": null,
            "justify_content": null,
            "justify_items": null,
            "left": null,
            "margin": null,
            "max_height": null,
            "max_width": null,
            "min_height": null,
            "min_width": null,
            "object_fit": null,
            "object_position": null,
            "order": null,
            "overflow": null,
            "overflow_x": null,
            "overflow_y": null,
            "padding": null,
            "right": null,
            "top": null,
            "visibility": null,
            "width": null
          }
        },
        "05f7f7a4fa0c4762a0b9bdf32eae80c4": {
          "model_module": "@jupyter-widgets/controls",
          "model_module_version": "1.5.0",
          "model_name": "HTMLModel",
          "state": {
            "_dom_classes": [],
            "_model_module": "@jupyter-widgets/controls",
            "_model_module_version": "1.5.0",
            "_model_name": "HTMLModel",
            "_view_count": null,
            "_view_module": "@jupyter-widgets/controls",
            "_view_module_version": "1.5.0",
            "_view_name": "HTMLView",
            "description": "",
            "description_tooltip": null,
            "layout": "IPY_MODEL_02c54b1c5e9d4f35b39a5cf1c4820bc4",
            "placeholder": "​",
            "style": "IPY_MODEL_e1478ef3880d434ea1dc2c7e4fa85f45",
            "value": "Tokenizing data items: 100%"
          }
        },
        "12d03655bb5d4dfd863fd7ab83b2c338": {
          "model_module": "@jupyter-widgets/base",
          "model_module_version": "1.2.0",
          "model_name": "LayoutModel",
          "state": {
            "_model_module": "@jupyter-widgets/base",
            "_model_module_version": "1.2.0",
            "_model_name": "LayoutModel",
            "_view_count": null,
            "_view_module": "@jupyter-widgets/base",
            "_view_module_version": "1.2.0",
            "_view_name": "LayoutView",
            "align_content": null,
            "align_items": null,
            "align_self": null,
            "border": null,
            "bottom": null,
            "display": null,
            "flex": null,
            "flex_flow": null,
            "grid_area": null,
            "grid_auto_columns": null,
            "grid_auto_flow": null,
            "grid_auto_rows": null,
            "grid_column": null,
            "grid_gap": null,
            "grid_row": null,
            "grid_template_areas": null,
            "grid_template_columns": null,
            "grid_template_rows": null,
            "height": null,
            "justify_content": null,
            "justify_items": null,
            "left": null,
            "margin": null,
            "max_height": null,
            "max_width": null,
            "min_height": null,
            "min_width": null,
            "object_fit": null,
            "object_position": null,
            "order": null,
            "overflow": null,
            "overflow_x": null,
            "overflow_y": null,
            "padding": null,
            "right": null,
            "top": null,
            "visibility": null,
            "width": null
          }
        },
        "1b8930d57c8c46f39c0d74c965eda90f": {
          "model_module": "@jupyter-widgets/controls",
          "model_module_version": "1.5.0",
          "model_name": "HTMLModel",
          "state": {
            "_dom_classes": [],
            "_model_module": "@jupyter-widgets/controls",
            "_model_module_version": "1.5.0",
            "_model_name": "HTMLModel",
            "_view_count": null,
            "_view_module": "@jupyter-widgets/controls",
            "_view_module_version": "1.5.0",
            "_view_name": "HTMLView",
            "description": "",
            "description_tooltip": null,
            "layout": "IPY_MODEL_9a20a8043e264195a5b43a8cf63d7678",
            "placeholder": "​",
            "style": "IPY_MODEL_b234fae8f98d41488688827ab5655945",
            "value": "Loading checkpoint shards:  75%"
          }
        },
        "1f74ce2635ae475ca8daba5ff41a44e0": {
          "model_module": "@jupyter-widgets/controls",
          "model_module_version": "1.5.0",
          "model_name": "HTMLModel",
          "state": {
            "_dom_classes": [],
            "_model_module": "@jupyter-widgets/controls",
            "_model_module_version": "1.5.0",
            "_model_name": "HTMLModel",
            "_view_count": null,
            "_view_module": "@jupyter-widgets/controls",
            "_view_module_version": "1.5.0",
            "_view_name": "HTMLView",
            "description": "",
            "description_tooltip": null,
            "layout": "IPY_MODEL_e2c389768a5041858374f7b4a4932439",
            "placeholder": "​",
            "style": "IPY_MODEL_e87288c4e4b64cc39c826296bac449b5",
            "value": " 3/4 [01:16&lt;00:23, 23.59s/it]"
          }
        },
        "2233a726bf1c416584d54cd81db35f83": {
          "model_module": "@jupyter-widgets/controls",
          "model_module_version": "1.5.0",
          "model_name": "FloatProgressModel",
          "state": {
            "_dom_classes": [],
            "_model_module": "@jupyter-widgets/controls",
            "_model_module_version": "1.5.0",
            "_model_name": "FloatProgressModel",
            "_view_count": null,
            "_view_module": "@jupyter-widgets/controls",
            "_view_module_version": "1.5.0",
            "_view_name": "ProgressView",
            "bar_style": "success",
            "description": "",
            "description_tooltip": null,
            "layout": "IPY_MODEL_4c66f18746eb4a5da576cfeba989ae8c",
            "max": 100,
            "min": 0,
            "orientation": "horizontal",
            "style": "IPY_MODEL_dcac4235f3da4d9ab65ebaa9de36a8a5",
            "value": 100
          }
        },
        "48f0422bbacf457397d776d609ce81f9": {
          "model_module": "@jupyter-widgets/base",
          "model_module_version": "1.2.0",
          "model_name": "LayoutModel",
          "state": {
            "_model_module": "@jupyter-widgets/base",
            "_model_module_version": "1.2.0",
            "_model_name": "LayoutModel",
            "_view_count": null,
            "_view_module": "@jupyter-widgets/base",
            "_view_module_version": "1.2.0",
            "_view_name": "LayoutView",
            "align_content": null,
            "align_items": null,
            "align_self": null,
            "border": null,
            "bottom": null,
            "display": null,
            "flex": null,
            "flex_flow": null,
            "grid_area": null,
            "grid_auto_columns": null,
            "grid_auto_flow": null,
            "grid_auto_rows": null,
            "grid_column": null,
            "grid_gap": null,
            "grid_row": null,
            "grid_template_areas": null,
            "grid_template_columns": null,
            "grid_template_rows": null,
            "height": null,
            "justify_content": null,
            "justify_items": null,
            "left": null,
            "margin": null,
            "max_height": null,
            "max_width": null,
            "min_height": null,
            "min_width": null,
            "object_fit": null,
            "object_position": null,
            "order": null,
            "overflow": null,
            "overflow_x": null,
            "overflow_y": null,
            "padding": null,
            "right": null,
            "top": null,
            "visibility": null,
            "width": null
          }
        },
        "4c66f18746eb4a5da576cfeba989ae8c": {
          "model_module": "@jupyter-widgets/base",
          "model_module_version": "1.2.0",
          "model_name": "LayoutModel",
          "state": {
            "_model_module": "@jupyter-widgets/base",
            "_model_module_version": "1.2.0",
            "_model_name": "LayoutModel",
            "_view_count": null,
            "_view_module": "@jupyter-widgets/base",
            "_view_module_version": "1.2.0",
            "_view_name": "LayoutView",
            "align_content": null,
            "align_items": null,
            "align_self": null,
            "border": null,
            "bottom": null,
            "display": null,
            "flex": null,
            "flex_flow": null,
            "grid_area": null,
            "grid_auto_columns": null,
            "grid_auto_flow": null,
            "grid_auto_rows": null,
            "grid_column": null,
            "grid_gap": null,
            "grid_row": null,
            "grid_template_areas": null,
            "grid_template_columns": null,
            "grid_template_rows": null,
            "height": null,
            "justify_content": null,
            "justify_items": null,
            "left": null,
            "margin": null,
            "max_height": null,
            "max_width": null,
            "min_height": null,
            "min_width": null,
            "object_fit": null,
            "object_position": null,
            "order": null,
            "overflow": null,
            "overflow_x": null,
            "overflow_y": null,
            "padding": null,
            "right": null,
            "top": null,
            "visibility": null,
            "width": null
          }
        },
        "876697025f614cbfb62b17fe66938faa": {
          "model_module": "@jupyter-widgets/base",
          "model_module_version": "1.2.0",
          "model_name": "LayoutModel",
          "state": {
            "_model_module": "@jupyter-widgets/base",
            "_model_module_version": "1.2.0",
            "_model_name": "LayoutModel",
            "_view_count": null,
            "_view_module": "@jupyter-widgets/base",
            "_view_module_version": "1.2.0",
            "_view_name": "LayoutView",
            "align_content": null,
            "align_items": null,
            "align_self": null,
            "border": null,
            "bottom": null,
            "display": null,
            "flex": null,
            "flex_flow": null,
            "grid_area": null,
            "grid_auto_columns": null,
            "grid_auto_flow": null,
            "grid_auto_rows": null,
            "grid_column": null,
            "grid_gap": null,
            "grid_row": null,
            "grid_template_areas": null,
            "grid_template_columns": null,
            "grid_template_rows": null,
            "height": null,
            "justify_content": null,
            "justify_items": null,
            "left": null,
            "margin": null,
            "max_height": null,
            "max_width": null,
            "min_height": null,
            "min_width": null,
            "object_fit": null,
            "object_position": null,
            "order": null,
            "overflow": null,
            "overflow_x": null,
            "overflow_y": null,
            "padding": null,
            "right": null,
            "top": null,
            "visibility": null,
            "width": null
          }
        },
        "91edc9b79b44491d94c9568f9fb362df": {
          "model_module": "@jupyter-widgets/controls",
          "model_module_version": "1.5.0",
          "model_name": "HTMLModel",
          "state": {
            "_dom_classes": [],
            "_model_module": "@jupyter-widgets/controls",
            "_model_module_version": "1.5.0",
            "_model_name": "HTMLModel",
            "_view_count": null,
            "_view_module": "@jupyter-widgets/controls",
            "_view_module_version": "1.5.0",
            "_view_name": "HTMLView",
            "description": "",
            "description_tooltip": null,
            "layout": "IPY_MODEL_aad91b7a4e0c494197b72f5cff55b9c5",
            "placeholder": "​",
            "style": "IPY_MODEL_f9b2a5f885e64e62890aa2b2b945de62",
            "value": " 100/100 [00:00&lt;00:00,  1.79data item/s]"
          }
        },
        "9a20a8043e264195a5b43a8cf63d7678": {
          "model_module": "@jupyter-widgets/base",
          "model_module_version": "1.2.0",
          "model_name": "LayoutModel",
          "state": {
            "_model_module": "@jupyter-widgets/base",
            "_model_module_version": "1.2.0",
            "_model_name": "LayoutModel",
            "_view_count": null,
            "_view_module": "@jupyter-widgets/base",
            "_view_module_version": "1.2.0",
            "_view_name": "LayoutView",
            "align_content": null,
            "align_items": null,
            "align_self": null,
            "border": null,
            "bottom": null,
            "display": null,
            "flex": null,
            "flex_flow": null,
            "grid_area": null,
            "grid_auto_columns": null,
            "grid_auto_flow": null,
            "grid_auto_rows": null,
            "grid_column": null,
            "grid_gap": null,
            "grid_row": null,
            "grid_template_areas": null,
            "grid_template_columns": null,
            "grid_template_rows": null,
            "height": null,
            "justify_content": null,
            "justify_items": null,
            "left": null,
            "margin": null,
            "max_height": null,
            "max_width": null,
            "min_height": null,
            "min_width": null,
            "object_fit": null,
            "object_position": null,
            "order": null,
            "overflow": null,
            "overflow_x": null,
            "overflow_y": null,
            "padding": null,
            "right": null,
            "top": null,
            "visibility": null,
            "width": null
          }
        },
        "a1aecf96b761474c837aa103ebdbff27": {
          "model_module": "@jupyter-widgets/controls",
          "model_module_version": "1.5.0",
          "model_name": "HBoxModel",
          "state": {
            "_dom_classes": [],
            "_model_module": "@jupyter-widgets/controls",
            "_model_module_version": "1.5.0",
            "_model_name": "HBoxModel",
            "_view_count": null,
            "_view_module": "@jupyter-widgets/controls",
            "_view_module_version": "1.5.0",
            "_view_name": "HBoxView",
            "box_style": "",
            "children": [
              "IPY_MODEL_1b8930d57c8c46f39c0d74c965eda90f",
              "IPY_MODEL_d6928d70ab80421e820a773bc6906e50",
              "IPY_MODEL_1f74ce2635ae475ca8daba5ff41a44e0"
            ],
            "layout": "IPY_MODEL_876697025f614cbfb62b17fe66938faa"
          }
        },
        "aad91b7a4e0c494197b72f5cff55b9c5": {
          "model_module": "@jupyter-widgets/base",
          "model_module_version": "1.2.0",
          "model_name": "LayoutModel",
          "state": {
            "_model_module": "@jupyter-widgets/base",
            "_model_module_version": "1.2.0",
            "_model_name": "LayoutModel",
            "_view_count": null,
            "_view_module": "@jupyter-widgets/base",
            "_view_module_version": "1.2.0",
            "_view_name": "LayoutView",
            "align_content": null,
            "align_items": null,
            "align_self": null,
            "border": null,
            "bottom": null,
            "display": null,
            "flex": null,
            "flex_flow": null,
            "grid_area": null,
            "grid_auto_columns": null,
            "grid_auto_flow": null,
            "grid_auto_rows": null,
            "grid_column": null,
            "grid_gap": null,
            "grid_row": null,
            "grid_template_areas": null,
            "grid_template_columns": null,
            "grid_template_rows": null,
            "height": null,
            "justify_content": null,
            "justify_items": null,
            "left": null,
            "margin": null,
            "max_height": null,
            "max_width": null,
            "min_height": null,
            "min_width": null,
            "object_fit": null,
            "object_position": null,
            "order": null,
            "overflow": null,
            "overflow_x": null,
            "overflow_y": null,
            "padding": null,
            "right": null,
            "top": null,
            "visibility": null,
            "width": null
          }
        },
        "b234fae8f98d41488688827ab5655945": {
          "model_module": "@jupyter-widgets/controls",
          "model_module_version": "1.5.0",
          "model_name": "DescriptionStyleModel",
          "state": {
            "_model_module": "@jupyter-widgets/controls",
            "_model_module_version": "1.5.0",
            "_model_name": "DescriptionStyleModel",
            "_view_count": null,
            "_view_module": "@jupyter-widgets/base",
            "_view_module_version": "1.2.0",
            "_view_name": "StyleView",
            "description_width": ""
          }
        },
        "bd19389570f9413e9bc4d3d484281f19": {
          "model_module": "@jupyter-widgets/controls",
          "model_module_version": "1.5.0",
          "model_name": "HBoxModel",
          "state": {
            "_dom_classes": [],
            "_model_module": "@jupyter-widgets/controls",
            "_model_module_version": "1.5.0",
            "_model_name": "HBoxModel",
            "_view_count": null,
            "_view_module": "@jupyter-widgets/controls",
            "_view_module_version": "1.5.0",
            "_view_name": "HBoxView",
            "box_style": "",
            "children": [
              "IPY_MODEL_05f7f7a4fa0c4762a0b9bdf32eae80c4",
              "IPY_MODEL_2233a726bf1c416584d54cd81db35f83",
              "IPY_MODEL_91edc9b79b44491d94c9568f9fb362df"
            ],
            "layout": "IPY_MODEL_48f0422bbacf457397d776d609ce81f9"
          }
        },
        "d6928d70ab80421e820a773bc6906e50": {
          "model_module": "@jupyter-widgets/controls",
          "model_module_version": "1.5.0",
          "model_name": "FloatProgressModel",
          "state": {
            "_dom_classes": [],
            "_model_module": "@jupyter-widgets/controls",
            "_model_module_version": "1.5.0",
            "_model_name": "FloatProgressModel",
            "_view_count": null,
            "_view_module": "@jupyter-widgets/controls",
            "_view_module_version": "1.5.0",
            "_view_name": "ProgressView",
            "bar_style": "danger",
            "description": "",
            "description_tooltip": null,
            "layout": "IPY_MODEL_12d03655bb5d4dfd863fd7ab83b2c338",
            "max": 4,
            "min": 0,
            "orientation": "horizontal",
            "style": "IPY_MODEL_f9a61dd96b7c4f9790888bb817109aa4",
            "value": 3
          }
        },
        "dcac4235f3da4d9ab65ebaa9de36a8a5": {
          "model_module": "@jupyter-widgets/controls",
          "model_module_version": "1.5.0",
          "model_name": "ProgressStyleModel",
          "state": {
            "_model_module": "@jupyter-widgets/controls",
            "_model_module_version": "1.5.0",
            "_model_name": "ProgressStyleModel",
            "_view_count": null,
            "_view_module": "@jupyter-widgets/base",
            "_view_module_version": "1.2.0",
            "_view_name": "StyleView",
            "bar_color": null,
            "description_width": ""
          }
        },
        "e1478ef3880d434ea1dc2c7e4fa85f45": {
          "model_module": "@jupyter-widgets/controls",
          "model_module_version": "1.5.0",
          "model_name": "DescriptionStyleModel",
          "state": {
            "_model_module": "@jupyter-widgets/controls",
            "_model_module_version": "1.5.0",
            "_model_name": "DescriptionStyleModel",
            "_view_count": null,
            "_view_module": "@jupyter-widgets/base",
            "_view_module_version": "1.2.0",
            "_view_name": "StyleView",
            "description_width": ""
          }
        },
        "e2c389768a5041858374f7b4a4932439": {
          "model_module": "@jupyter-widgets/base",
          "model_module_version": "1.2.0",
          "model_name": "LayoutModel",
          "state": {
            "_model_module": "@jupyter-widgets/base",
            "_model_module_version": "1.2.0",
            "_model_name": "LayoutModel",
            "_view_count": null,
            "_view_module": "@jupyter-widgets/base",
            "_view_module_version": "1.2.0",
            "_view_name": "LayoutView",
            "align_content": null,
            "align_items": null,
            "align_self": null,
            "border": null,
            "bottom": null,
            "display": null,
            "flex": null,
            "flex_flow": null,
            "grid_area": null,
            "grid_auto_columns": null,
            "grid_auto_flow": null,
            "grid_auto_rows": null,
            "grid_column": null,
            "grid_gap": null,
            "grid_row": null,
            "grid_template_areas": null,
            "grid_template_columns": null,
            "grid_template_rows": null,
            "height": null,
            "justify_content": null,
            "justify_items": null,
            "left": null,
            "margin": null,
            "max_height": null,
            "max_width": null,
            "min_height": null,
            "min_width": null,
            "object_fit": null,
            "object_position": null,
            "order": null,
            "overflow": null,
            "overflow_x": null,
            "overflow_y": null,
            "padding": null,
            "right": null,
            "top": null,
            "visibility": null,
            "width": null
          }
        },
        "e87288c4e4b64cc39c826296bac449b5": {
          "model_module": "@jupyter-widgets/controls",
          "model_module_version": "1.5.0",
          "model_name": "DescriptionStyleModel",
          "state": {
            "_model_module": "@jupyter-widgets/controls",
            "_model_module_version": "1.5.0",
            "_model_name": "DescriptionStyleModel",
            "_view_count": null,
            "_view_module": "@jupyter-widgets/base",
            "_view_module_version": "1.2.0",
            "_view_name": "StyleView",
            "description_width": ""
          }
        },
        "f9a61dd96b7c4f9790888bb817109aa4": {
          "model_module": "@jupyter-widgets/controls",
          "model_module_version": "1.5.0",
          "model_name": "ProgressStyleModel",
          "state": {
            "_model_module": "@jupyter-widgets/controls",
            "_model_module_version": "1.5.0",
            "_model_name": "ProgressStyleModel",
            "_view_count": null,
            "_view_module": "@jupyter-widgets/base",
            "_view_module_version": "1.2.0",
            "_view_name": "StyleView",
            "bar_color": null,
            "description_width": ""
          }
        },
        "f9b2a5f885e64e62890aa2b2b945de62": {
          "model_module": "@jupyter-widgets/controls",
          "model_module_version": "1.5.0",
          "model_name": "DescriptionStyleModel",
          "state": {
            "_model_module": "@jupyter-widgets/controls",
            "_model_module_version": "1.5.0",
            "_model_name": "DescriptionStyleModel",
            "_view_count": null,
            "_view_module": "@jupyter-widgets/base",
            "_view_module_version": "1.2.0",
            "_view_name": "StyleView",
            "description_width": ""
          }
        }
      }
    }
  },
  "nbformat": 4,
  "nbformat_minor": 0
}

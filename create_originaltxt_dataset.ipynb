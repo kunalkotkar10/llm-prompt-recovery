{
 "cells": [
  {
   "cell_type": "markdown",
   "metadata": {},
   "source": [
    "# Creating datasets"
   ]
  },
  {
   "cell_type": "code",
   "execution_count": null,
   "metadata": {},
   "outputs": [],
   "source": [
    "import os\n",
    "import json\n",
    "import wandb\n",
    "import random\n",
    "import pandas as pd\n",
    "\n",
    "from dotenv import load_dotenv\n",
    "from tqdm.autonotebook import tqdm\n",
    "\n",
    "load_dotenv()"
   ]
  },
  {
   "cell_type": "code",
   "execution_count": null,
   "metadata": {},
   "outputs": [],
   "source": [
    "run = wandb.init(entity=\"jhu-llm-prompt-recovery\", project=\"llm-prompt-recovery\", job_type=\"upload-dataset\")"
   ]
  },
  {
   "cell_type": "markdown",
   "metadata": {},
   "source": [
    "## Stories (Writing Prompts) Dataset"
   ]
  },
  {
   "cell_type": "code",
   "execution_count": null,
   "metadata": {},
   "outputs": [],
   "source": [
    "DATASET_NAME = \"stories-dataset\"\n",
    "RAW_FP = \"data/writingPrompts/train.wp_target\"\n",
    "PROCESSED_FP = \"outputs/datasetStories.json\""
   ]
  },
  {
   "cell_type": "code",
   "execution_count": null,
   "metadata": {},
   "outputs": [],
   "source": [
    "# read file\n",
    "with open(RAW_FP, \"r\", encoding='utf-8') as f:\n",
    "    raw = f.readlines()"
   ]
  },
  {
   "cell_type": "code",
   "execution_count": null,
   "metadata": {},
   "outputs": [],
   "source": [
    "# filter first 10000 lines which have between 500 and 1000 words\n",
    "filtered = []\n",
    "for line in raw:\n",
    "    if len(line.split()) > 500 and len(line.split()) < 1000:\n",
    "        filtered.append(line)\n",
    "    if len(filtered) == 10000:\n",
    "        break"
   ]
  },
  {
   "cell_type": "code",
   "execution_count": null,
   "metadata": {},
   "outputs": [],
   "source": [
    "with open(PROCESSED_FP, \"w\") as f:\n",
    "    json.dump([{\"id\": idx, \"text\": text} for idx, text in enumerate(filtered)], f, ensure_ascii=False, indent=4)"
   ]
  },
  {
   "cell_type": "code",
   "execution_count": null,
   "metadata": {},
   "outputs": [],
   "source": [
    "\n",
    "artifact = wandb.Artifact(name=DATASET_NAME, type=\"original-text-dataset\")\n",
    "artifact.add_file(local_path=PROCESSED_FP)\n",
    "run.log_artifact(artifact)"
   ]
  },
  {
   "cell_type": "markdown",
   "metadata": {},
   "source": [
    "## News Articles (CNN-DailyMail) Dataset"
   ]
  },
  {
   "cell_type": "code",
   "execution_count": null,
   "metadata": {},
   "outputs": [],
   "source": [
    "DATASET_NAME = \"news-articles-dataset\"\n",
    "RAW_FP = 'data/cnn_dailymail/3.0.0/validation-00000-of-00001.parquet'\n",
    "PROCESSED_FP = \"outputs/datasetNewsArticles.json\""
   ]
  },
  {
   "cell_type": "code",
   "execution_count": null,
   "metadata": {},
   "outputs": [],
   "source": [
    "df = pd.read_parquet(RAW_FP, engine='pyarrow')"
   ]
  },
  {
   "cell_type": "code",
   "execution_count": null,
   "metadata": {},
   "outputs": [],
   "source": [
    "raw = df['article'].to_list()"
   ]
  },
  {
   "cell_type": "code",
   "execution_count": null,
   "metadata": {},
   "outputs": [],
   "source": [
    "# filter first 10000 lines which have between 500 and 1000 words\n",
    "filtered = []\n",
    "for line in raw:\n",
    "    if len(line.split()) > 500 and len(line.split()) < 1000:\n",
    "        filtered.append(line)\n",
    "    if len(filtered) == 10000:\n",
    "        break"
   ]
  },
  {
   "cell_type": "code",
   "execution_count": null,
   "metadata": {},
   "outputs": [],
   "source": [
    "# remove the word (CNN) from the text\n",
    "filtered = [text.replace('(CNN)', '') for text in filtered]"
   ]
  },
  {
   "cell_type": "code",
   "execution_count": null,
   "metadata": {},
   "outputs": [],
   "source": [
    "with open(PROCESSED_FP, \"w\") as f:\n",
    "    json.dump([{\"id\": idx, \"text\": text} for idx, text in enumerate(filtered)], f, ensure_ascii=False, indent=4)"
   ]
  },
  {
   "cell_type": "code",
   "execution_count": null,
   "metadata": {},
   "outputs": [],
   "source": [
    "artifact = wandb.Artifact(name=DATASET_NAME, type=\"original-text-dataset\")\n",
    "artifact.add_file(local_path=PROCESSED_FP)\n",
    "run.log_artifact(artifact)"
   ]
  },
  {
   "cell_type": "markdown",
   "metadata": {},
   "source": [
    "## Enron Email Dataset"
   ]
  },
  {
   "cell_type": "code",
   "execution_count": null,
   "metadata": {},
   "outputs": [],
   "source": [
    "DATASET_NAME = \"email-dataset\"\n",
    "RAW_DIR = \"data/maildir\"\n",
    "PROCESSED_FP = \"outputs/datasetStories.json\""
   ]
  },
  {
   "cell_type": "code",
   "execution_count": null,
   "metadata": {},
   "outputs": [],
   "source": [
    "# there are multiple folders in the maildir directory\n",
    "# get list of files in the \"all_documents\" folder, no matter the subfolder\n",
    "raw = []\n",
    "for root, dirs, files in os.walk(RAW_DIR):\n",
    "    if \"all_documents\" in root:\n",
    "        for file in files:\n",
    "            raw.append(os.path.join(root, file))"
   ]
  },
  {
   "cell_type": "code",
   "execution_count": null,
   "metadata": {},
   "outputs": [],
   "source": [
    "# shuffle the list of documents in raw\n",
    "random.seed(42)\n",
    "random.shuffle(raw)"
   ]
  },
  {
   "cell_type": "code",
   "execution_count": null,
   "metadata": {},
   "outputs": [],
   "source": [
    "# only allow common email body marks like . , ' \" ( ) ? ! \\' \\\" [ ] @ -\n",
    "# allowed_punctuation_marks = [\".\", \",\", \"'\", '\"', \"(\", \")\", \"?\", \"!\", \"\\'\", \"\\\"\", \"[\", \"]\", \"@\", \"-\"]\n",
    "\n",
    "# spam consecutive chars\n",
    "spam_consecutive_chars = [\"===\", \"---\", \"___\", \">>>\", \"<<<\", \"[IMAGE]\", \"***\", \"> > >\"]\n",
    "\n",
    "bodies = list()\n",
    "for email_fp in tqdm(raw, desc=\"Processing emails\", total=len(raw), unit=\"emails\"):\n",
    "    with open(email_fp, \"r\", encoding='utf-8', errors='ignore') as f:\n",
    "        lines = f.readlines()\n",
    "        try:\n",
    "            start = None\n",
    "            end = None\n",
    "            for line in lines:\n",
    "                if \"X-FileName\" in line:\n",
    "                    start = lines.index(line)\n",
    "                    break\n",
    "                else:\n",
    "                    continue\n",
    "            if start is None:\n",
    "                continue\n",
    "            for line in lines[start+1:]:\n",
    "                if (\"Forwarded by\" in line) or (\"Original Message\" in line):\n",
    "                    end = lines.index(line)\n",
    "                    break\n",
    "                else:\n",
    "                    end = len(lines)\n",
    "            body = \" \".join(lines[start+1:end])\n",
    "\n",
    "            # replace \"\\n\" with \" \"\n",
    "            body = body.replace(\"\\n\", \" \")\n",
    "\n",
    "            # remove extra spaces\n",
    "            body = \" \".join(body.split())\n",
    "\n",
    "            # remove any punctuation marks that are not in the allowed list\n",
    "            # body = \"\".join([char for char in body if char in allowed_punctuation_marks])\n",
    "\n",
    "            # if the body contains any line with spam consecutive characters, skip\n",
    "            if any([spam in body for spam in spam_consecutive_chars]):\n",
    "                continue\n",
    "\n",
    "            # # if body contains less than 500 words and more than 100 words, skip\n",
    "            if len(body.split()) < 500 or len(body.split()) > 1000:\n",
    "                continue\n",
    "            bodies.append(body)\n",
    "        except:\n",
    "            pass\n"
   ]
  },
  {
   "cell_type": "code",
   "execution_count": null,
   "metadata": {},
   "outputs": [],
   "source": [
    "# SPECIAL_MENTION_ID = 944\n",
    "# bodies[SPECIAL_MENTION_ID]"
   ]
  },
  {
   "cell_type": "code",
   "execution_count": null,
   "metadata": {},
   "outputs": [],
   "source": [
    "with open(PROCESSED_FP, \"w\") as f:\n",
    "    json.dump([{\"id\": idx, \"text\": text} for idx, text in enumerate(bodies)], f, ensure_ascii=False, indent=4)"
   ]
  },
  {
   "cell_type": "code",
   "execution_count": null,
   "metadata": {},
   "outputs": [],
   "source": [
    "artifact = wandb.Artifact(name=DATASET_NAME, type=\"original-text-dataset\")\n",
    "artifact.add_file(local_path=PROCESSED_FP)\n",
    "run.log_artifact(artifact)"
   ]
  },
  {
   "cell_type": "code",
   "execution_count": null,
   "metadata": {},
   "outputs": [],
   "source": [
    "run.finish()\n",
    "wandb.finish()"
   ]
  }
 ],
 "metadata": {
  "kernelspec": {
   "display_name": "llm_prompt_recovery",
   "language": "python",
   "name": "python3"
  },
  "language_info": {
   "codemirror_mode": {
    "name": "ipython",
    "version": 3
   },
   "file_extension": ".py",
   "mimetype": "text/x-python",
   "name": "python",
   "nbconvert_exporter": "python",
   "pygments_lexer": "ipython3",
   "version": "3.10.14"
  }
 },
 "nbformat": 4,
 "nbformat_minor": 2
}
